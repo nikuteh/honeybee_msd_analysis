{
 "cells": [
  {
   "cell_type": "markdown",
   "id": "30b58887",
   "metadata": {},
   "source": [
    "## Used cv2 package to get a single video frame from the 5 videos S1-S5"
   ]
  },
  {
   "cell_type": "code",
   "execution_count": 2,
   "id": "d34a1340",
   "metadata": {},
   "outputs": [],
   "source": [
    "import cv2\n",
    "import os\n"
   ]
  },
  {
   "cell_type": "code",
   "execution_count": null,
   "id": "7516696e",
   "metadata": {},
   "outputs": [],
   "source": [
    "def extract_vid_frame(videopath, outputpath):\n",
    "    func_video_path = videopath\n",
    "    func_output_image_path = outputpath\n",
    "\n",
    "    try:\n",
    "        #open file\n",
    "        cap = cv2.VideoCapture(func_video_path)\n",
    "\n",
    "        if not cap.isOpened():\n",
    "            print(f\"Error: could not open at {func_video_path}\")\n",
    "            exit()\n",
    "        \n",
    "        # get first frame, ret = success, frame = the image \n",
    "        ret, frame = cap.read()\n",
    "\n",
    "        if ret:\n",
    "            # save as image\n",
    "            cv2.imwrite(func_output_image_path, frame)\n",
    "            print(f\"successfully saved first frame to {func_output_image_path}\")\n",
    "        else:\n",
    "            print(\"error: couldn't read frame from video\")\n",
    "\n",
    "        cap.release()\n",
    "\n",
    "    except Exception as e:\n",
    "        print(f\"error occured: {e}\")\n"
   ]
  },
  {
   "cell_type": "code",
   "execution_count": 7,
   "id": "d5d896c0",
   "metadata": {},
   "outputs": [
    {
     "name": "stdout",
     "output_type": "stream",
     "text": [
      "successfully saved first frame to ../cropped_images/s1_1_frame.png\n",
      "successfully saved first frame to ../cropped_images/s2_1_frame.png\n",
      "successfully saved first frame to ../cropped_images/s3_1_frame.png\n",
      "successfully saved first frame to ../cropped_images/s4_1_frame.png\n",
      "successfully saved first frame to ../cropped_images/s5_1_frame.png\n"
     ]
    }
   ],
   "source": [
    "for i in range(1,6):\n",
    "    video_path = f\"../Markerless_Tracking_Data/S{i}/S{i}/S{i}.mp4\"\n",
    "    output_image_path = f\"../cropped_images/s{i}_1_frame.png\"\n",
    "    extract_vid_frame(video_path, output_image_path)\n",
    "\n"
   ]
  }
 ],
 "metadata": {
  "kernelspec": {
   "display_name": "peleglab",
   "language": "python",
   "name": "python3"
  },
  "language_info": {
   "codemirror_mode": {
    "name": "ipython",
    "version": 3
   },
   "file_extension": ".py",
   "mimetype": "text/x-python",
   "name": "python",
   "nbconvert_exporter": "python",
   "pygments_lexer": "ipython3",
   "version": "3.12.8"
  }
 },
 "nbformat": 4,
 "nbformat_minor": 5
}
